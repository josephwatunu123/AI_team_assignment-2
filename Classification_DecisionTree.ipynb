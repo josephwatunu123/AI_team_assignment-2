{
 "cells": [
  {
   "cell_type": "code",
   "execution_count": 16,
   "id": "e8ae2d0a",
   "metadata": {
    "scrolled": true
   },
   "outputs": [
    {
     "name": "stdout",
     "output_type": "stream",
     "text": [
      "This is the accuracy for the model 0.6688311688311688\n"
     ]
    }
   ],
   "source": [
    "import pandas as pd\n",
    "from sklearn.tree import DecisionTreeClassifier\n",
    "from sklearn.model_selection import train_test_split\n",
    "from sklearn.metrics import accuracy_score\n",
    "\n",
    "\n",
    "diabetes = pd.read_csv('diabetes.csv')\n",
    "X=diabetes.drop(columns=['Outcome']) #This label is for all the inputs it drops the column that has the output\n",
    "y=diabetes['Outcome'] #This label is for the output\n",
    "X_train,X_test, y_train, y_test = train_test_split(X,y,test_size=0.2) # first input sets of x are for training and testing and the second are outputs for training and testing 0.2 of the dataset will be used to test the model\n",
    "\n",
    "health = DecisionTreeClassifier()\n",
    "health.fit(X_train,y_train)#This method takes in the input and output set\n",
    "predictions = health.predict(X_test)#contains values for testing\n",
    "\n",
    "score=accuracy_score(y_test, predictions)#gives the accuracy of the model \n",
    "\n",
    "\n",
    "\n",
    "\n",
    "print(\"This is the accuracy for the model\",score)\n"
   ]
  },
  {
   "cell_type": "code",
   "execution_count": null,
   "id": "c33d759b",
   "metadata": {},
   "outputs": [],
   "source": []
  },
  {
   "cell_type": "code",
   "execution_count": null,
   "id": "0955d2ea",
   "metadata": {},
   "outputs": [],
   "source": []
  }
 ],
 "metadata": {
  "kernelspec": {
   "display_name": "Python 3 (ipykernel)",
   "language": "python",
   "name": "python3"
  },
  "language_info": {
   "codemirror_mode": {
    "name": "ipython",
    "version": 3
   },
   "file_extension": ".py",
   "mimetype": "text/x-python",
   "name": "python",
   "nbconvert_exporter": "python",
   "pygments_lexer": "ipython3",
   "version": "3.9.12"
  }
 },
 "nbformat": 4,
 "nbformat_minor": 5
}
